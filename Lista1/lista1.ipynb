{
 "cells": [
  {
   "cell_type": "markdown",
   "metadata": {},
   "source": [
    "# Lista 1\n",
    "\n",
    "## Kurs wybranego języka programowania (Python)\n",
    "\n",
    "Wszystkie rozwiązania proszę wpisać w tym notatniku poniżej treści zadań. Zadania z `*` to zadania dodatkowe."
   ]
  },
  {
   "cell_type": "markdown",
   "metadata": {},
   "source": [
    "## Zadanie 1 _(5pt)_\n",
    "\n",
    "Napisz funkcję, który wyświetla trójkąt Pascala o zadanej wysokości\n",
    "```\n",
    "                1\n",
    "              1   1\n",
    "            1   2   1\n",
    "          1   3   3   1\n",
    "        1   4   6   4   1\n",
    "      .....................\n",
    "```"
   ]
  },
  {
   "cell_type": "code",
   "execution_count": 1,
   "metadata": {},
   "outputs": [
    {
     "name": "stdout",
     "output_type": "stream",
     "text": [
      "       1       \n",
      "      1 1      \n",
      "     1 2 1     \n",
      "    1 3 3 1    \n",
      "   1 4 6 4 1   \n",
      "  1 5 10 10 5 1  \n",
      " 1 6 15 20 15 6 1 \n"
     ]
    }
   ],
   "source": [
    "def pascal_triangle(n):\n",
    "    n_fact = 1\n",
    "    print(' '*(n+1)+'1'+' '*(n+1))\n",
    "    for counter in range(1,n+1):\n",
    "        print(' '*(n-counter), end = ' ')\n",
    "        n_fact *= counter\n",
    "        k_fact = 1\n",
    "        n_less_k_fact = n_fact\n",
    "        for k in range(0,counter+1):\n",
    "            print(int(n_fact/(k_fact*n_less_k_fact)), end = ' ')\n",
    "            k_fact *= k+1\n",
    "            if counter-k != 0:\n",
    "                n_less_k_fact /= counter-k\n",
    "        print(' '*(n-counter))\n",
    "            \n",
    "pascal_triangle(6)       \n",
    "        "
   ]
  },
  {
   "cell_type": "markdown",
   "metadata": {},
   "source": [
    "## Zadanie 2 _(5pt)_\n",
    "\n",
    "Napisz funkcję `primes(n)` zwracająca listę liczb pierwszych nie większych niż $n$ np.\n",
    "\n",
    "```\n",
    "In [ ]:   primes(6)\n",
    "Out [ ]: [2, 3, 5]\n",
    "```"
   ]
  },
  {
   "cell_type": "code",
   "execution_count": 3,
   "metadata": {},
   "outputs": [
    {
     "name": "stdout",
     "output_type": "stream",
     "text": [
      "[2, 3, 5, 7, 11, 13, 17, 19, 23, 29, 31, 37, 41, 43, 47]\n"
     ]
    }
   ],
   "source": [
    "import math\n",
    "\n",
    "def primes(n):\n",
    "    out = list(range(2,n+1))\n",
    "    for i in range(0, int(math.sqrt(n))):\n",
    "        helper = out[i]*2\n",
    "        while helper <= n:\n",
    "            if helper in out:\n",
    "                out.remove(helper)\n",
    "            helper += out[i]\n",
    "    return out\n",
    "\n",
    "print(primes(50))"
   ]
  },
  {
   "cell_type": "markdown",
   "metadata": {},
   "source": [
    "## Zadanie 3 _(5pt)_\n",
    "\n",
    "Napisz funkcje, która usuwa wszystkie powtarzające się elementy z listy (tak, że każdy element występuje tylko raz) np. z listy `[1,1,2,2,2,3,3,5,5,5,4,4,4,0]` dostajemy `[1,2,3,5,4,0]`."
   ]
  },
  {
   "cell_type": "code",
   "execution_count": 36,
   "metadata": {},
   "outputs": [
    {
     "data": {
      "text/plain": [
       "[0, 1, 2, 3, 4, 5]"
      ]
     },
     "execution_count": 36,
     "metadata": {},
     "output_type": "execute_result"
    }
   ],
   "source": [
    "def rem_dup(x):\n",
    "    return list(set(x))\n",
    "\n",
    "y = [1,1,2,2,2,3,3,5,5,5,4,4,4,0]\n",
    "rem_dup(y)"
   ]
  },
  {
   "cell_type": "markdown",
   "metadata": {},
   "source": [
    "## Zadanie 4 _(10pt)_\n",
    "\n",
    "Napisz funkcję `prime_factors(n)`, która rozkłada $n$ na czynniki pierwsze i jako wynik wraca listę par $[(p_1,\\alpha_1), (p_2,\\alpha_2), \\ldots, (p_k, \\alpha_k)]$ taką, że $p_1^{\\alpha_1}p_2^{\\alpha_2}\\ldots p_k^{\\alpha_k}$.\n"
   ]
  },
  {
   "cell_type": "code",
   "execution_count": 4,
   "metadata": {},
   "outputs": [
    {
     "data": {
      "text/plain": [
       "[(83, 1), (149, 1)]"
      ]
     },
     "execution_count": 4,
     "metadata": {},
     "output_type": "execute_result"
    }
   ],
   "source": [
    "def prime_factors(n):\n",
    "    factors = []\n",
    "    for div in range(2, n):\n",
    "        counter = 0\n",
    "        while n%div == 0:\n",
    "            n /= div\n",
    "            counter += 1\n",
    "        if counter != 0:\n",
    "            factors.append((div, counter))\n",
    "    return factors\n",
    "\n",
    "prime_factors(12367)"
   ]
  },
  {
   "cell_type": "markdown",
   "metadata": {},
   "source": [
    "## Zadanie 5 _(10pt)_\n",
    "\n",
    "Napisz funkcję `fraczero(n)` liczącą silnie $n!$ dla $n$ od $0$ do $10000$ oraz jako wynik wraca liczbę zer na końcu $n!$."
   ]
  },
  {
   "cell_type": "code",
   "execution_count": 45,
   "metadata": {},
   "outputs": [
    {
     "data": {
      "text/plain": [
       "2499"
      ]
     },
     "execution_count": 45,
     "metadata": {},
     "output_type": "execute_result"
    }
   ],
   "source": [
    "from math import factorial\n",
    "def fraczero(n):\n",
    "    n = factorial(n)\n",
    "    n = str(n)\n",
    "    counter = 0\n",
    "    i = -1\n",
    "    while n[i] == '0':\n",
    "        counter += 1\n",
    "        i -= 1\n",
    "    return counter\n",
    "\n",
    "fraczero(10000)\n",
    "    "
   ]
  },
  {
   "cell_type": "markdown",
   "metadata": {},
   "source": [
    "## Zadanie 6 _(10pt)_\n",
    "\n",
    "Napisz program, który generuje liczbę $20$ liczb losowych (rozkład jednostajny) od $1$ do $100$\n",
    "* Wyświetl listę wygenerowanych liczb\n",
    "* Wyświetl średnią\n",
    "* Wyświetl największą i najmniejszą wartość\n",
    "* Wyświetl drugą największą i drugą najmniejszą wartość na liście\n",
    "* Wyświetl ile jest liczb parzystych na liście\n",
    " "
   ]
  },
  {
   "cell_type": "code",
   "execution_count": 52,
   "metadata": {},
   "outputs": [
    {
     "name": "stdout",
     "output_type": "stream",
     "text": [
      "Wygenerowana lista to:  [31, 33, 53, 50, 14, 66, 94, 83, 73, 39, 61, 67, 30, 8, 68, 90, 32, 47, 69, 47]\n",
      "Srednia to:  52.75\n",
      "Minimum to:  8\n",
      "Maksimum to:  94\n",
      "Druga najmniejsza liczba to:  14\n",
      "Druga najwieksza liczba to:  90\n",
      "Liczba liczb parzystych to:  9\n"
     ]
    }
   ],
   "source": [
    "import random\n",
    "def numbers():\n",
    "    num = []\n",
    "    for i in range(0,20):\n",
    "        num.append(random.randint(1,100))\n",
    "    print(\"Wygenerowana lista to: \",num)\n",
    "    print(\"Srednia to: \", sum(num)/len(num))\n",
    "    num.sort()\n",
    "    print(\"Minimum to: \", num[0])\n",
    "    print(\"Maksimum to: \", num[-1])\n",
    "    counter = 0\n",
    "    for n in num:\n",
    "        if n%2 == 0:\n",
    "            counter += 1\n",
    "    num = list(set(num))\n",
    "    num.sort()\n",
    "    print(\"Druga najmniejsza liczba to: \", num[1])\n",
    "    print(\"Druga najwieksza liczba to: \", num[-2])\n",
    "    print(\"Liczba liczb parzystych to: \", counter)\n",
    "\n",
    "numbers()\n",
    "    "
   ]
  },
  {
   "cell_type": "markdown",
   "metadata": {},
   "source": [
    "## Zadanie 7 _(10pt)_\n",
    "\n",
    "Załóżmy, że mamy następującą listę: `L = ['aababacaa', 'cabaabcca', 'aaabbcbacb', 'acababbaab', ...]` wygenerowaną losowo tzn. lista zawiera losowe ciągi znaków o zadanej długości z liter `'a'`, `'b'` i `'c'`. Takie wzorce występują w wielu miejscach np. sekwencje DNA. Użytkownik zawiera swój (wzorzec) ciąg znaków z literami i pustymi miejscami oznaczonymi przez `'*'` np. `\"a**a******\"`. Wykorzystaj słownik z kluczami zawierającymi indeksy znaków różnych od `'*'` i wartościami liter z wzorca. Napisz program, który znajduje wszystkie sekwencje z listy, które pasuje do podanego wzorca."
   ]
  },
  {
   "cell_type": "code",
   "execution_count": 48,
   "metadata": {},
   "outputs": [
    {
     "name": "stdout",
     "output_type": "stream",
     "text": [
      "['aababacaa']\n"
     ]
    }
   ],
   "source": [
    "def match(codes, pattern):\n",
    "    out = []\n",
    "    for code in codes:\n",
    "        counter = 0\n",
    "        for x in pattern:\n",
    "            helper = int(x)\n",
    "            if code[helper] == pattern[x]:\n",
    "                counter += 1\n",
    "        if counter == len(pattern):\n",
    "            out.append(code)\n",
    "    return out\n",
    "\n",
    "L = ['aababacaa', 'cabaabcca', 'aaabbcbacb', 'acababbaab']\n",
    "pattern = {\n",
    "    \"0\" : \"a\",\n",
    "    \"3\" : \"a\"\n",
    "}\n",
    "print(match(L, pattern))"
   ]
  },
  {
   "cell_type": "markdown",
   "metadata": {},
   "source": [
    "## Zadanie 8 _(10pt)_\n",
    "\n",
    "Napisz program, który konwerteruje liczby rzymskie na liczby arabskie. Do zapisu liczb rzymskich używa\n",
    "się 7 liter: `I=1`, `V=5`, `X=10`, `L=50`, `C=100`, `D=500`, `M=1000`. Opis algorytmu zamiany z i na system rzymski można znaleźć np. [tutaj](http://www.algorytm.org/algorytmy-arytmetyczne/zamiana-z-i-na-system-rzymski.html)"
   ]
  },
  {
   "cell_type": "code",
   "execution_count": 28,
   "metadata": {},
   "outputs": [
    {
     "name": "stdout",
     "output_type": "stream",
     "text": [
      "1939\n"
     ]
    }
   ],
   "source": [
    "def conv(number):\n",
    "    roman = {\n",
    "        \"I\" : 1,\n",
    "        \"V\" : 5,\n",
    "        \"X\" : 10,\n",
    "        \"L\" : 50,\n",
    "        \"C\" : 100,\n",
    "        \"D\" : 500,\n",
    "        \"M\" : 1000\n",
    "    }\n",
    "    out = 0\n",
    "    val = []\n",
    "    number.upper()\n",
    "    for digit in number:\n",
    "        val.append(roman[digit])\n",
    "    for i in range(0, len(val)-1):\n",
    "        if val[i] >= val[i+1]:\n",
    "            out += val[i]\n",
    "        else:\n",
    "            out -= val[i]\n",
    "    out += val[-1]\n",
    "    return out\n",
    "\n",
    "print(conv(\"MCMXXXIX\"))"
   ]
  },
  {
   "cell_type": "markdown",
   "metadata": {},
   "source": [
    "## Zadanie 9* _(5pt)_\n",
    "\n",
    "Napisz program kalkulator, który pobiera wprowadzone wartości oraz funkcje z klawiatury następnie podaje wynik. W przypadku błędnych danych zgłasza błąd.\n",
    "\n",
    "Przykładowa sesja:\n",
    "```\n",
    "    Kalkulator\n",
    "    [1]: 2+5*10\n",
    "        52\n",
    "    [2]: sin(0.5)+cos(0.3)\n",
    "        1.434762027729809\n",
    "    [3]: 2^100\n",
    "        1267650600228229401496703205376\n",
    "```\n",
    "\n",
    "Przykładowy kod pobierania danych od użytkownika:\n",
    "\n",
    "```\n",
    "    x = input('Podaj x = ')\n",
    "```"
   ]
  },
  {
   "cell_type": "code",
   "execution_count": 5,
   "metadata": {},
   "outputs": [
    {
     "name": "stdout",
     "output_type": "stream",
     "text": [
      "Witamy w kalkulatorze! Jesli chcesz wyjsc, wpisz exit\n",
      "Czekam na rozkazy: 555*312\n",
      "173160\n",
      "Czekam na dalsze rozkazy: sin(cos(0.6))\n",
      "0.7347754747082689\n",
      "Czekam na dalsze rozkazy: exit\n"
     ]
    }
   ],
   "source": [
    "from math import *\n",
    "def calc(cmd):\n",
    "    try:\n",
    "        print(eval(cmd))\n",
    "    except:\n",
    "        print(\"Cos poszlo nie tak kapitanie\")\n",
    "\n",
    "print(\"Witamy w kalkulatorze! Jesli chcesz wyjsc, wpisz exit\")\n",
    "cmd = input(\"Czekam na rozkazy: \")\n",
    "while cmd != \"exit\":\n",
    "    calc(cmd)\n",
    "    cmd = input(\"Czekam na dalsze rozkazy: \")"
   ]
  },
  {
   "cell_type": "markdown",
   "metadata": {},
   "source": [
    "\n",
    "## Zadanie 10* _(10pt)_\n",
    "\n",
    "Napisz program, który rysuje na ekranie w trybie znakowym wykres funkcji zmiennej $x$. Wskazówka: utwórz  ,,tablicę dwuwymiarową'' o wymiarach 80x24 i narysuj wykres w tej tablicy. Następnie wynik wyświetl na ekranie.\n",
    "\n",
    "```\n",
    "        Podaj funkcje f(x) = sin(x)\n",
    "        Podaj początek przedziału a = -pi\n",
    "        Podaj koniec przedziału b = pi\n",
    "                                                |\n",
    "                                                |\n",
    "                                                |              ***********\n",
    "                                                |           ***           ***\n",
    "                                                |         **                 **\n",
    "                                                |        *                     *\n",
    "                                                |      **                       **\n",
    "                                                |     *                           *\n",
    "                                                |   **                             **\n",
    "                                                |  *                                 *\n",
    "                                                | *                                   *\n",
    "                                                |*                                     *\n",
    "        ----------------------------------------|---------------------------------------\n",
    "          *                                   * |\n",
    "           *                                 *  |\n",
    "            **                             **   |\n",
    "              *                           *     |\n",
    "               **                       **      |\n",
    "                 *                     *        |\n",
    "                  **                 **         |\n",
    "                    ***           ***           |\n",
    "                       ***** *****              |\n",
    "                            *                   |\n",
    "                                                |\n",
    "```"
   ]
  },
  {
   "cell_type": "code",
   "execution_count": 6,
   "metadata": {},
   "outputs": [
    {
     "name": "stdout",
     "output_type": "stream",
     "text": [
      "Podaj funkcje: x\n",
      "Podaj poczatek przedzialu: -100\n",
      "Podaj koniec przedzialu: 100\n",
      "                                        |                                   ****\n",
      "                                        |                                ***    \n",
      "                                        |                            ****       \n",
      "                                        |                         ***           \n",
      "                                        |                     ****              \n",
      "                                        |                  ***                  \n",
      "                                        |              ****                     \n",
      "                                        |           ***                         \n",
      "                                        |        ***                            \n",
      "                                        |    ****                               \n",
      "                                        | ***                                   \n",
      "----------------------------------------|---------------------------------------\n",
      "                                   ***  |                                       \n",
      "                               ****     |                                       \n",
      "                            ***         |                                       \n",
      "                         ***            |                                       \n",
      "                     ****               |                                       \n",
      "                  ***                   |                                       \n",
      "              ****                      |                                       \n",
      "           ***                          |                                       \n",
      "       ****                             |                                       \n",
      "    ***                                 |                                       \n",
      " ***                                    |                                       \n",
      "*                                       |                                       \n"
     ]
    }
   ],
   "source": [
    "from math import *\n",
    "def draw_plot(f, a, b):\n",
    "    plot = []\n",
    "    for i in range(0, 24):\n",
    "        row = []\n",
    "        for j in range (0,80):\n",
    "            row.append(\" \")\n",
    "        plot.append(row)\n",
    "        \n",
    "    interval = (b-a)/80\n",
    "    x = a\n",
    "    val = []\n",
    "    for i in range(0, 80):\n",
    "        try:\n",
    "            val.append(eval(f))\n",
    "            x += interval\n",
    "        except:\n",
    "            print(\"Cos sie popsulo\")\n",
    "            return\n",
    "        \n",
    "    min_val = val[0]\n",
    "    max_val = val[0]\n",
    "    for v in val:\n",
    "        if v > max_val:\n",
    "            max_val = v\n",
    "        elif v < min_val:\n",
    "            min_val = v\n",
    "    height = max_val - min_val\n",
    "    \n",
    "    for i in range(0, 80):\n",
    "        index = 23 - 23*(val[i]-min_val)/height\n",
    "        plot[int(index)][i] = \"*\"\n",
    "    \n",
    "    if min_val*max_val <= 0:\n",
    "        index = int(23 + 23*min_val/height)\n",
    "        for i in range (0,80):\n",
    "            plot[index][i] = \"-\"\n",
    "    \n",
    "    if a*b <= 0:\n",
    "        index = int(-80*a/(b-a))\n",
    "        for i in range (0,24):\n",
    "            plot[i][index] = \"|\"\n",
    "        \n",
    "    for i in plot:\n",
    "        for j in i:\n",
    "            print(j, end = \"\")\n",
    "        print(\"\")\n",
    "\n",
    "cmd = input(\"Podaj funkcje: \")\n",
    "a = input(\"Podaj poczatek przedzialu: \")\n",
    "b = input(\"Podaj koniec przedzialu: \")\n",
    "draw_plot(cmd, int(a), int(b))"
   ]
  },
  {
   "cell_type": "code",
   "execution_count": null,
   "metadata": {},
   "outputs": [],
   "source": []
  },
  {
   "cell_type": "code",
   "execution_count": null,
   "metadata": {},
   "outputs": [],
   "source": []
  }
 ],
 "metadata": {
  "kernelspec": {
   "display_name": "Python 3",
   "language": "python",
   "name": "python3"
  },
  "language_info": {
   "codemirror_mode": {
    "name": "ipython",
    "version": 3
   },
   "file_extension": ".py",
   "mimetype": "text/x-python",
   "name": "python",
   "nbconvert_exporter": "python",
   "pygments_lexer": "ipython3",
   "version": "3.7.4"
  }
 },
 "nbformat": 4,
 "nbformat_minor": 2
}
